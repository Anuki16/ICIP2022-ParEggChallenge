{
 "cells": [
  {
   "cell_type": "code",
   "execution_count": 1,
   "metadata": {},
   "outputs": [],
   "source": [
    "from pycocotools.coco import COCO\n",
    "import json\n",
    "\n",
    "# Path to the original COCO annotations file\n",
    "original_annotations_path = '/home/anuki/ICIP2022-ParEggChallenge/test/test_labels.json'\n",
    "# Load the original annotations\n",
    "with open(original_annotations_path, 'r') as file:\n",
    "    coco_data = json.load(file)\n",
    "\n",
    "# Assuming 'annotations' is the key containing your annotations\n",
    "annotations = coco_data['annotations']\n",
    "\n",
    "# Add the 'iscrowd' parameter to each annotation\n",
    "for annotation in annotations:\n",
    "    # You can customize the 'iscrowd' value based on your criteria\n",
    "    annotation['iscrowd'] = 0  # 0 for single object, 1 for a crowd\n",
    "\n",
    "# Save the modified annotations to a new file\n",
    "with open(original_annotations_path, 'w') as file:\n",
    "    json.dump(coco_data, file)\n"
   ]
  },
  {
   "cell_type": "code",
   "execution_count": null,
   "metadata": {},
   "outputs": [
    {
     "ename": "",
     "evalue": "",
     "output_type": "error",
     "traceback": [
      "\u001b[1;31mFailed to start the Kernel. \n",
      "\u001b[1;31mView Jupyter <a href='command:jupyter.viewOutput'>log</a> for further details."
     ]
    }
   ],
   "source": []
  }
 ],
 "metadata": {
  "kernelspec": {
   "display_name": "openmmlab",
   "language": "python",
   "name": "python3"
  },
  "language_info": {
   "codemirror_mode": {
    "name": "ipython",
    "version": 3
   },
   "file_extension": ".py",
   "mimetype": "text/x-python",
   "name": "python",
   "nbconvert_exporter": "python",
   "pygments_lexer": "ipython3",
   "version": "3.8.18"
  },
  "orig_nbformat": 4
 },
 "nbformat": 4,
 "nbformat_minor": 2
}
